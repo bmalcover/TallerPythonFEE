{
 "cells": [
  {
   "cell_type": "markdown",
   "source": [
    "<div align=\"right\">\n",
    "\n",
    "[![Open In Colab](https://colab.research.google.com/assets/colab-badge.svg)](https://colab.research.google.com/github/wisaaco/TallerPythonFEE/blob/main/lessons/2/2_Pandas_Modificacio.ipynb)\n",
    "\n",
    "Si no funciona el botó podeu copiar el següent [enllaç](https://colab.research.google.com/github/wisaaco/TallerPythonFEE/blob/main/lessons/2/2_Pandas_Modificacio.ipynb)\n",
    "</div>"
   ],
   "metadata": {
    "collapsed": false
   }
  },
  {
   "cell_type": "code",
   "execution_count": 12,
   "outputs": [],
   "source": [
    "import pandas as pd"
   ],
   "metadata": {
    "collapsed": false
   }
  },
  {
   "cell_type": "markdown",
   "source": [
    "# 4 Modificació\n",
    "A més de fer seleccions, en alguns moments necessitarem incorporar nova informació a les nostres taules de dades.\n"
   ],
   "metadata": {
    "collapsed": false
   }
  },
  {
   "cell_type": "code",
   "execution_count": 13,
   "metadata": {
    "collapsed": true
   },
   "outputs": [
    {
     "data": {
      "text/plain": "             name        type  AvgBill\n0  Foreign Cinema  Restaurant    289.0\n1       Liho Liho  Restaurant    224.0\n2        500 Club         bar     80.5\n3      The Square         bar     25.3",
      "text/html": "<div>\n<style scoped>\n    .dataframe tbody tr th:only-of-type {\n        vertical-align: middle;\n    }\n\n    .dataframe tbody tr th {\n        vertical-align: top;\n    }\n\n    .dataframe thead th {\n        text-align: right;\n    }\n</style>\n<table border=\"1\" class=\"dataframe\">\n  <thead>\n    <tr style=\"text-align: right;\">\n      <th></th>\n      <th>name</th>\n      <th>type</th>\n      <th>AvgBill</th>\n    </tr>\n  </thead>\n  <tbody>\n    <tr>\n      <th>0</th>\n      <td>Foreign Cinema</td>\n      <td>Restaurant</td>\n      <td>289.0</td>\n    </tr>\n    <tr>\n      <th>1</th>\n      <td>Liho Liho</td>\n      <td>Restaurant</td>\n      <td>224.0</td>\n    </tr>\n    <tr>\n      <th>2</th>\n      <td>500 Club</td>\n      <td>bar</td>\n      <td>80.5</td>\n    </tr>\n    <tr>\n      <th>3</th>\n      <td>The Square</td>\n      <td>bar</td>\n      <td>25.3</td>\n    </tr>\n  </tbody>\n</table>\n</div>"
     },
     "execution_count": 13,
     "metadata": {},
     "output_type": "execute_result"
    }
   ],
   "source": [
    "df2 = pd.DataFrame([('Foreign Cinema', 'Restaurant', 289.0),\n",
    "                   ('Liho Liho', 'Restaurant', 224.0),\n",
    "                   ('500 Club', 'bar', 80.5),\n",
    "                   ('The Square', 'bar', 25.30)],\n",
    "           columns=('name', 'type', 'AvgBill')\n",
    "                 )\n",
    "df2"
   ]
  },
  {
   "cell_type": "markdown",
   "source": [
    "## Afegir columnes\n",
    "\n",
    "Tenim diverses maneres d'afegir columnes a un _dataFrame_:\n",
    "\n",
    "- Mitjançant el nom de la columna que volem afegir, tal com afegim una clau nova a un diccionari.\n",
    "- `insert`: és un mètode que necessita 3 paràmetres. La posició on volem afegir la columna (`loc`), el seu nom (`column`) i la llista de valors (`value`).\n",
    "- `assign`: molt semblant a l'anterior, però permet afegir múltiples columnes.\n",
    "\n",
    "Vegem-ne alguns exemples:"
   ],
   "metadata": {
    "collapsed": false
   }
  },
  {
   "cell_type": "code",
   "execution_count": 14,
   "outputs": [
    {
     "data": {
      "text/plain": "             name        type  AvgBill     Day\n0  Foreign Cinema  Restaurant    289.0  Monday\n1       Liho Liho  Restaurant    224.0  Monday\n2        500 Club         bar     80.5  Monday\n3      The Square         bar     25.3  Monday",
      "text/html": "<div>\n<style scoped>\n    .dataframe tbody tr th:only-of-type {\n        vertical-align: middle;\n    }\n\n    .dataframe tbody tr th {\n        vertical-align: top;\n    }\n\n    .dataframe thead th {\n        text-align: right;\n    }\n</style>\n<table border=\"1\" class=\"dataframe\">\n  <thead>\n    <tr style=\"text-align: right;\">\n      <th></th>\n      <th>name</th>\n      <th>type</th>\n      <th>AvgBill</th>\n      <th>Day</th>\n    </tr>\n  </thead>\n  <tbody>\n    <tr>\n      <th>0</th>\n      <td>Foreign Cinema</td>\n      <td>Restaurant</td>\n      <td>289.0</td>\n      <td>Monday</td>\n    </tr>\n    <tr>\n      <th>1</th>\n      <td>Liho Liho</td>\n      <td>Restaurant</td>\n      <td>224.0</td>\n      <td>Monday</td>\n    </tr>\n    <tr>\n      <th>2</th>\n      <td>500 Club</td>\n      <td>bar</td>\n      <td>80.5</td>\n      <td>Monday</td>\n    </tr>\n    <tr>\n      <th>3</th>\n      <td>The Square</td>\n      <td>bar</td>\n      <td>25.3</td>\n      <td>Monday</td>\n    </tr>\n  </tbody>\n</table>\n</div>"
     },
     "execution_count": 14,
     "metadata": {},
     "output_type": "execute_result"
    }
   ],
   "source": [
    "df2['Day'] = \"Monday\" # Com un diccionari\n",
    "df2"
   ],
   "metadata": {
    "collapsed": false
   }
  },
  {
   "cell_type": "code",
   "execution_count": 15,
   "outputs": [
    {
     "data": {
      "text/plain": "             name        type  AvgBill        Day\n0  Foreign Cinema  Restaurant    289.0     Monday\n1       Liho Liho  Restaurant    224.0    Tuesday\n2        500 Club         bar     80.5  Wednesday\n3      The Square         bar     25.3   Thursday",
      "text/html": "<div>\n<style scoped>\n    .dataframe tbody tr th:only-of-type {\n        vertical-align: middle;\n    }\n\n    .dataframe tbody tr th {\n        vertical-align: top;\n    }\n\n    .dataframe thead th {\n        text-align: right;\n    }\n</style>\n<table border=\"1\" class=\"dataframe\">\n  <thead>\n    <tr style=\"text-align: right;\">\n      <th></th>\n      <th>name</th>\n      <th>type</th>\n      <th>AvgBill</th>\n      <th>Day</th>\n    </tr>\n  </thead>\n  <tbody>\n    <tr>\n      <th>0</th>\n      <td>Foreign Cinema</td>\n      <td>Restaurant</td>\n      <td>289.0</td>\n      <td>Monday</td>\n    </tr>\n    <tr>\n      <th>1</th>\n      <td>Liho Liho</td>\n      <td>Restaurant</td>\n      <td>224.0</td>\n      <td>Tuesday</td>\n    </tr>\n    <tr>\n      <th>2</th>\n      <td>500 Club</td>\n      <td>bar</td>\n      <td>80.5</td>\n      <td>Wednesday</td>\n    </tr>\n    <tr>\n      <th>3</th>\n      <td>The Square</td>\n      <td>bar</td>\n      <td>25.3</td>\n      <td>Thursday</td>\n    </tr>\n  </tbody>\n</table>\n</div>"
     },
     "execution_count": 15,
     "metadata": {},
     "output_type": "execute_result"
    }
   ],
   "source": [
    "df2['Day'] = ['Monday', 'Tuesday', 'Wednesday', 'Thursday']\n",
    "df2"
   ],
   "metadata": {
    "collapsed": false
   }
  },
  {
   "cell_type": "code",
   "execution_count": null,
   "outputs": [],
   "source": [
    "#Emprarem el mètode insert. Indicant on volem inserir aquesta columna amb el paràmetre loc\n",
    "\n",
    "df2.insert(loc=1, column=\"Stars\", value=[2,2,3,4])\n",
    "df2"
   ],
   "metadata": {
    "collapsed": false
   }
  },
  {
   "cell_type": "markdown",
   "source": [
    "El mètode `assing` permet afegir múltiples columnes en una sola operació. És interessant veure que la columna anomenada _AvgHalfBill_ és el resultat de dividir una columna entre 2."
   ],
   "metadata": {
    "collapsed": false
   }
  },
  {
   "cell_type": "code",
   "execution_count": 18,
   "outputs": [
    {
     "data": {
      "text/plain": "             name        type  AvgBill        Day  AvgHalfBill  Michelin_Star\n0  Foreign Cinema  Restaurant    289.0     Monday       144.50              3\n1       Liho Liho  Restaurant    224.0    Tuesday       112.00              3\n2        500 Club         bar     80.5  Wednesday        40.25              3\n3      The Square         bar     25.3   Thursday        12.65              3",
      "text/html": "<div>\n<style scoped>\n    .dataframe tbody tr th:only-of-type {\n        vertical-align: middle;\n    }\n\n    .dataframe tbody tr th {\n        vertical-align: top;\n    }\n\n    .dataframe thead th {\n        text-align: right;\n    }\n</style>\n<table border=\"1\" class=\"dataframe\">\n  <thead>\n    <tr style=\"text-align: right;\">\n      <th></th>\n      <th>name</th>\n      <th>type</th>\n      <th>AvgBill</th>\n      <th>Day</th>\n      <th>AvgHalfBill</th>\n      <th>Michelin_Star</th>\n    </tr>\n  </thead>\n  <tbody>\n    <tr>\n      <th>0</th>\n      <td>Foreign Cinema</td>\n      <td>Restaurant</td>\n      <td>289.0</td>\n      <td>Monday</td>\n      <td>144.50</td>\n      <td>3</td>\n    </tr>\n    <tr>\n      <th>1</th>\n      <td>Liho Liho</td>\n      <td>Restaurant</td>\n      <td>224.0</td>\n      <td>Tuesday</td>\n      <td>112.00</td>\n      <td>3</td>\n    </tr>\n    <tr>\n      <th>2</th>\n      <td>500 Club</td>\n      <td>bar</td>\n      <td>80.5</td>\n      <td>Wednesday</td>\n      <td>40.25</td>\n      <td>3</td>\n    </tr>\n    <tr>\n      <th>3</th>\n      <td>The Square</td>\n      <td>bar</td>\n      <td>25.3</td>\n      <td>Thursday</td>\n      <td>12.65</td>\n      <td>3</td>\n    </tr>\n  </tbody>\n</table>\n</div>"
     },
     "execution_count": 18,
     "metadata": {},
     "output_type": "execute_result"
    }
   ],
   "source": [
    "df3 = df2.assign(AvgHalfBill=df2.AvgBill / 2, Michelin_Star=3)\n",
    "df3"
   ],
   "metadata": {
    "collapsed": false
   }
  },
  {
   "cell_type": "markdown",
   "source": [
    "## Afegir files\n",
    "\n",
    "Per afegir files a un _dataframe_ tenim\n",
    "\n",
    "- `concat`: concatena dos o més _dataFrames_ separats per comes."
   ],
   "metadata": {
    "collapsed": false
   }
  },
  {
   "cell_type": "code",
   "execution_count": 36,
   "outputs": [],
   "source": [
    "df_files = df2.copy() # Fem una còpia de tota la informació\n",
    "\n",
    "#Cream un diccionari\n",
    "fila = {\"name\":\"Isaacs\", \"type\":\"bar\" ,\"AvgBill\":[148.2], \"Day\":\"Friday\"}\n",
    "\n",
    "nou_df = pd.concat([df_files, pd.DataFrame(fila)])"
   ],
   "metadata": {
    "collapsed": false
   }
  },
  {
   "cell_type": "code",
   "execution_count": 37,
   "outputs": [
    {
     "data": {
      "text/plain": "             name        type  AvgBill        Day\n0  Foreign Cinema  Restaurant    289.0     Monday\n1       Liho Liho  Restaurant    224.0    Tuesday\n2        500 Club         bar     80.5  Wednesday\n3      The Square         bar     25.3   Thursday\n0          Isaacs         bar    148.2     Friday",
      "text/html": "<div>\n<style scoped>\n    .dataframe tbody tr th:only-of-type {\n        vertical-align: middle;\n    }\n\n    .dataframe tbody tr th {\n        vertical-align: top;\n    }\n\n    .dataframe thead th {\n        text-align: right;\n    }\n</style>\n<table border=\"1\" class=\"dataframe\">\n  <thead>\n    <tr style=\"text-align: right;\">\n      <th></th>\n      <th>name</th>\n      <th>type</th>\n      <th>AvgBill</th>\n      <th>Day</th>\n    </tr>\n  </thead>\n  <tbody>\n    <tr>\n      <th>0</th>\n      <td>Foreign Cinema</td>\n      <td>Restaurant</td>\n      <td>289.0</td>\n      <td>Monday</td>\n    </tr>\n    <tr>\n      <th>1</th>\n      <td>Liho Liho</td>\n      <td>Restaurant</td>\n      <td>224.0</td>\n      <td>Tuesday</td>\n    </tr>\n    <tr>\n      <th>2</th>\n      <td>500 Club</td>\n      <td>bar</td>\n      <td>80.5</td>\n      <td>Wednesday</td>\n    </tr>\n    <tr>\n      <th>3</th>\n      <td>The Square</td>\n      <td>bar</td>\n      <td>25.3</td>\n      <td>Thursday</td>\n    </tr>\n    <tr>\n      <th>0</th>\n      <td>Isaacs</td>\n      <td>bar</td>\n      <td>148.2</td>\n      <td>Friday</td>\n    </tr>\n  </tbody>\n</table>\n</div>"
     },
     "execution_count": 37,
     "metadata": {},
     "output_type": "execute_result"
    }
   ],
   "source": [
    "nou_df"
   ],
   "metadata": {
    "collapsed": false
   }
  },
  {
   "cell_type": "markdown",
   "source": [
    "## Eliminar columnes i files\n",
    "\n",
    "Molts cops tendrem la necessitat d'eliminar informació que no ens és interessant.\n",
    "\n",
    "### Columnes\n",
    "\n",
    "Tenim el mètode `drop` que ens proporciona un nou _dataFrame_ sense la(es) fila(es) o la(les) columna(es) que seleccionem.\n",
    "Si volem eliminar columnes podem fer-ho especificant la llista de columnes al paràmetre `columns` de la següent manera:"
   ],
   "metadata": {
    "collapsed": false
   }
  },
  {
   "cell_type": "code",
   "execution_count": 19,
   "outputs": [
    {
     "data": {
      "text/plain": "             name        type  AvgBill        Day  AvgHalfBill\n0  Foreign Cinema  Restaurant    289.0     Monday       144.50\n1       Liho Liho  Restaurant    224.0    Tuesday       112.00\n2        500 Club         bar     80.5  Wednesday        40.25\n3      The Square         bar     25.3   Thursday        12.65",
      "text/html": "<div>\n<style scoped>\n    .dataframe tbody tr th:only-of-type {\n        vertical-align: middle;\n    }\n\n    .dataframe tbody tr th {\n        vertical-align: top;\n    }\n\n    .dataframe thead th {\n        text-align: right;\n    }\n</style>\n<table border=\"1\" class=\"dataframe\">\n  <thead>\n    <tr style=\"text-align: right;\">\n      <th></th>\n      <th>name</th>\n      <th>type</th>\n      <th>AvgBill</th>\n      <th>Day</th>\n      <th>AvgHalfBill</th>\n    </tr>\n  </thead>\n  <tbody>\n    <tr>\n      <th>0</th>\n      <td>Foreign Cinema</td>\n      <td>Restaurant</td>\n      <td>289.0</td>\n      <td>Monday</td>\n      <td>144.50</td>\n    </tr>\n    <tr>\n      <th>1</th>\n      <td>Liho Liho</td>\n      <td>Restaurant</td>\n      <td>224.0</td>\n      <td>Tuesday</td>\n      <td>112.00</td>\n    </tr>\n    <tr>\n      <th>2</th>\n      <td>500 Club</td>\n      <td>bar</td>\n      <td>80.5</td>\n      <td>Wednesday</td>\n      <td>40.25</td>\n    </tr>\n    <tr>\n      <th>3</th>\n      <td>The Square</td>\n      <td>bar</td>\n      <td>25.3</td>\n      <td>Thursday</td>\n      <td>12.65</td>\n    </tr>\n  </tbody>\n</table>\n</div>"
     },
     "execution_count": 19,
     "metadata": {},
     "output_type": "execute_result"
    }
   ],
   "source": [
    "df_no_michelin = df3.drop(columns=[\"Michelin_Star\"]) # Eliminamos la última columna que hemos creado\n",
    "df_no_michelin"
   ],
   "metadata": {
    "collapsed": false
   }
  },
  {
   "cell_type": "markdown",
   "source": [
    "Anem a veure com ha quedat el dataframe del qual hem eliminat una columna:"
   ],
   "metadata": {
    "collapsed": false
   }
  },
  {
   "cell_type": "code",
   "execution_count": 20,
   "outputs": [
    {
     "data": {
      "text/plain": "             name        type  AvgBill        Day  AvgHalfBill  Michelin_Star\n0  Foreign Cinema  Restaurant    289.0     Monday       144.50              3\n1       Liho Liho  Restaurant    224.0    Tuesday       112.00              3\n2        500 Club         bar     80.5  Wednesday        40.25              3\n3      The Square         bar     25.3   Thursday        12.65              3",
      "text/html": "<div>\n<style scoped>\n    .dataframe tbody tr th:only-of-type {\n        vertical-align: middle;\n    }\n\n    .dataframe tbody tr th {\n        vertical-align: top;\n    }\n\n    .dataframe thead th {\n        text-align: right;\n    }\n</style>\n<table border=\"1\" class=\"dataframe\">\n  <thead>\n    <tr style=\"text-align: right;\">\n      <th></th>\n      <th>name</th>\n      <th>type</th>\n      <th>AvgBill</th>\n      <th>Day</th>\n      <th>AvgHalfBill</th>\n      <th>Michelin_Star</th>\n    </tr>\n  </thead>\n  <tbody>\n    <tr>\n      <th>0</th>\n      <td>Foreign Cinema</td>\n      <td>Restaurant</td>\n      <td>289.0</td>\n      <td>Monday</td>\n      <td>144.50</td>\n      <td>3</td>\n    </tr>\n    <tr>\n      <th>1</th>\n      <td>Liho Liho</td>\n      <td>Restaurant</td>\n      <td>224.0</td>\n      <td>Tuesday</td>\n      <td>112.00</td>\n      <td>3</td>\n    </tr>\n    <tr>\n      <th>2</th>\n      <td>500 Club</td>\n      <td>bar</td>\n      <td>80.5</td>\n      <td>Wednesday</td>\n      <td>40.25</td>\n      <td>3</td>\n    </tr>\n    <tr>\n      <th>3</th>\n      <td>The Square</td>\n      <td>bar</td>\n      <td>25.3</td>\n      <td>Thursday</td>\n      <td>12.65</td>\n      <td>3</td>\n    </tr>\n  </tbody>\n</table>\n</div>"
     },
     "execution_count": 20,
     "metadata": {},
     "output_type": "execute_result"
    }
   ],
   "source": [
    "df3"
   ],
   "metadata": {
    "collapsed": false
   }
  },
  {
   "cell_type": "markdown",
   "source": [
    "### Files\n",
    "Per poder eliminar files, fem servir la mateixa funció `drop`, aquesta vegada sense el paràmetre que hem fet servir anteriorment, simplement indiquem els índexs a eliminar:"
   ],
   "metadata": {
    "collapsed": false
   }
  },
  {
   "cell_type": "code",
   "execution_count": 21,
   "outputs": [
    {
     "data": {
      "text/plain": "             name        type  AvgBill        Day  AvgHalfBill\n0  Foreign Cinema  Restaurant    289.0     Monday       144.50\n2        500 Club         bar     80.5  Wednesday        40.25",
      "text/html": "<div>\n<style scoped>\n    .dataframe tbody tr th:only-of-type {\n        vertical-align: middle;\n    }\n\n    .dataframe tbody tr th {\n        vertical-align: top;\n    }\n\n    .dataframe thead th {\n        text-align: right;\n    }\n</style>\n<table border=\"1\" class=\"dataframe\">\n  <thead>\n    <tr style=\"text-align: right;\">\n      <th></th>\n      <th>name</th>\n      <th>type</th>\n      <th>AvgBill</th>\n      <th>Day</th>\n      <th>AvgHalfBill</th>\n    </tr>\n  </thead>\n  <tbody>\n    <tr>\n      <th>0</th>\n      <td>Foreign Cinema</td>\n      <td>Restaurant</td>\n      <td>289.0</td>\n      <td>Monday</td>\n      <td>144.50</td>\n    </tr>\n    <tr>\n      <th>2</th>\n      <td>500 Club</td>\n      <td>bar</td>\n      <td>80.5</td>\n      <td>Wednesday</td>\n      <td>40.25</td>\n    </tr>\n  </tbody>\n</table>\n</div>"
     },
     "execution_count": 21,
     "metadata": {},
     "output_type": "execute_result"
    }
   ],
   "source": [
    "df_less_rows = df_no_michelin.drop([1,3])\n",
    "df_less_rows"
   ],
   "metadata": {
    "collapsed": false
   }
  }
 ],
 "metadata": {
  "kernelspec": {
   "display_name": "Python 3",
   "language": "python",
   "name": "python3"
  },
  "language_info": {
   "codemirror_mode": {
    "name": "ipython",
    "version": 2
   },
   "file_extension": ".py",
   "mimetype": "text/x-python",
   "name": "python",
   "nbconvert_exporter": "python",
   "pygments_lexer": "ipython2",
   "version": "2.7.6"
  }
 },
 "nbformat": 4,
 "nbformat_minor": 0
}
